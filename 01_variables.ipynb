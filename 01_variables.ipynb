{
  "nbformat": 4,
  "nbformat_minor": 0,
  "metadata": {
    "kernelspec": {
      "display_name": "Python 3",
      "language": "python",
      "name": "python3"
    },
    "language_info": {
      "codemirror_mode": {
        "name": "ipython",
        "version": 3
      },
      "file_extension": ".py",
      "mimetype": "text/x-python",
      "name": "python",
      "nbconvert_exporter": "python",
      "pygments_lexer": "ipython3",
      "version": "3.7.4"
    },
    "colab": {
      "name": "Copy of 01_variables.ipynb",
      "provenance": [],
      "toc_visible": true,
      "include_colab_link": true
    }
  },
  "cells": [
    {
      "cell_type": "markdown",
      "metadata": {
        "id": "view-in-github",
        "colab_type": "text"
      },
      "source": [
        "<a href=\"https://colab.research.google.com/github/theQI/Python_Learning/blob/master/01_variables.ipynb\" target=\"_parent\"><img src=\"https://colab.research.google.com/assets/colab-badge.svg\" alt=\"Open In Colab\"/></a>"
      ]
    },
    {
      "cell_type": "markdown",
      "metadata": {
        "id": "zjsOeU7Vui0I",
        "colab_type": "text"
      },
      "source": [
        "# Variables and values\n",
        "\n",
        "Elements of Data Science\n",
        "\n",
        "by [Allen Downey](https://allendowney.com)\n",
        "\n",
        "[MIT License](https://opensource.org/licenses/MIT)\n",
        "\n",
        "### Goals\n",
        "\n",
        "The goal of these notebooks is to give you the tools you need to execute a data science project from beginning to end.  We'll start with some basic programming concepts and work our way toward data science tools.\n",
        "\n",
        "If you already have some programming experience, the first few notebooks might be a little slow.  But there might be some material, specific to data science, that you have not seen before.\n",
        "\n",
        "If you have not programmed before, you should expect to face some challenges.  I have done my best to explain everything as we go along; I try not to assume anything.  And there are exercises throughout the notebooks that should help you learn, and remember what you learned.\n",
        "\n",
        "Programming is a super power.  As you learn to program, I hope you feel empowered to take on bigger challenges.  But programming can also be frustrating.  It might take some persistence to get past some rough spots.\n",
        "\n",
        "The topics in this notebook include:\n",
        "\n",
        "* Using Jupyter to write and run Python code.\n",
        "\n",
        "* Basic programming features in Python: variables and values.\n",
        "\n",
        "* Translating formulas from math notation to Python.\n",
        "\n",
        "Along the way, we'll review a couple of math topics I assume you have seen before, logarithms and algebra."
      ]
    },
    {
      "cell_type": "markdown",
      "metadata": {
        "id": "S-q2ytx7ui0O",
        "colab_type": "text"
      },
      "source": [
        "## Jupyter\n",
        "\n",
        "This is a Jupyter notebook.  Jupyter is a software development environment, which means you can use it to write and run programs in Python and other programming languages.\n",
        "\n",
        "A Jupyter notebook is made up of cells, where each cell contains either text or code you can run.\n",
        "\n",
        "If you are running this notebook on Colab, you should see buttons in the top left that say \"+ Code\" and \"+ Text\".  The first one adds code cell and the second adds a text cell.\n",
        "\n",
        "If you want to try them out, select this cell by clicking on it, then press the \"+ Text\".  A new cell should appear below this one.\n",
        "\n",
        "Type something in the cell.  You can use the buttons to format it, or you can mark up the text using [Markdown](https://www.markdownguide.org/basic-syntax/).  When you are done, hold down Shift and press Enter, which will format the text you just typed and then move to the next cell.\n",
        "\n",
        "If you select a Code cell, you should see a button on the left with a triangle inside a circle, which is the icon for \"Play\".  If you press this button, Jupyter runs the code in the cell and displays the results.\n",
        "\n",
        "When you run code in a notebook for the first time, you might get a message warning you about the things a notebook can do.  If you are running a notebook from a source you trust, which I hope includes me, you can press \"Run Anyway\".\n",
        "\n",
        "Instead of clicking the \"Play\" button, you can also run the code in a cell by holding down Shift and pressing Enter."
      ]
    },
    {
      "cell_type": "markdown",
      "metadata": {
        "id": "UnS4tHenui0S",
        "colab_type": "text"
      },
      "source": [
        "## Numbers\n",
        "\n",
        "This notebook introduces the most fundamental tools for working with data: representing numbers and other values, and performing arithmetic operations.\n",
        "\n",
        "Python provides tools for working with numbers, words, dates, times, and locations (latitude and longitude).\n",
        "\n",
        "Let's start with numbers.  Python can handle several types of numbers, but the two most common are:\n",
        "\n",
        "* `int`, which represents integer values like `3`, and\n",
        "* `float`, which represents numbers that have a fraction part, like `3.14159`.\n",
        "\n",
        "Most often, we use `int` to represent counts and `float` to represent measurements.\n",
        "Here's an example of an `int` and a `float`:"
      ]
    },
    {
      "cell_type": "code",
      "metadata": {
        "id": "woo7faF4ui0W",
        "colab_type": "code",
        "colab": {}
      },
      "source": [
        "3"
      ],
      "execution_count": 0,
      "outputs": []
    },
    {
      "cell_type": "code",
      "metadata": {
        "id": "Yavf6rlQui0i",
        "colab_type": "code",
        "colab": {}
      },
      "source": [
        "3.14159"
      ],
      "execution_count": 0,
      "outputs": []
    },
    {
      "cell_type": "markdown",
      "metadata": {
        "id": "lIhxWoLOui0r",
        "colab_type": "text"
      },
      "source": [
        " `float` is short for \"floating-point\", which is the name for the way these numbers are stored."
      ]
    },
    {
      "cell_type": "markdown",
      "metadata": {
        "id": "AAgay2ONui0t",
        "colab_type": "text"
      },
      "source": [
        "**Exercise:** Create a code cell below this one and type in the following number:  `1.2345e3`\n",
        "\n",
        "Then run the cell.  The output should be `1234.5`\n",
        "\n",
        "The `e` in `1.2345e3` stands for \"exponent\".  This way of writing numbers is a version of scientific notation that means $1.2345 \\times 10^{3}$.  If you are not familiar with scientific notation, [you might want to read this](https://en.wikipedia.org/wiki/Scientific_notation). "
      ]
    },
    {
      "cell_type": "markdown",
      "metadata": {
        "id": "s-nz8MjXui0w",
        "colab_type": "text"
      },
      "source": [
        "## Arithmetic\n",
        "\n",
        "Python provides operators that perform arithmetic.  The operators that perform addition and subtraction are `+` and `-`:"
      ]
    },
    {
      "cell_type": "code",
      "metadata": {
        "id": "YcF8WYIRui0y",
        "colab_type": "code",
        "colab": {}
      },
      "source": [
        "2 + 1"
      ],
      "execution_count": 0,
      "outputs": []
    },
    {
      "cell_type": "code",
      "metadata": {
        "id": "EjSJq89Wui07",
        "colab_type": "code",
        "colab": {}
      },
      "source": [
        "2 - 1"
      ],
      "execution_count": 0,
      "outputs": []
    },
    {
      "cell_type": "markdown",
      "metadata": {
        "id": "EqzqS7uFui1B",
        "colab_type": "text"
      },
      "source": [
        "The operators that perform multiplication and division are `*` and `/`:"
      ]
    },
    {
      "cell_type": "code",
      "metadata": {
        "id": "GJOzqo8Mui1D",
        "colab_type": "code",
        "colab": {}
      },
      "source": [
        "2 * 3"
      ],
      "execution_count": 0,
      "outputs": []
    },
    {
      "cell_type": "code",
      "metadata": {
        "id": "TNQoewDYui1K",
        "colab_type": "code",
        "colab": {}
      },
      "source": [
        "2 / 3"
      ],
      "execution_count": 0,
      "outputs": []
    },
    {
      "cell_type": "markdown",
      "metadata": {
        "id": "_hF3LWI9ui1Q",
        "colab_type": "text"
      },
      "source": [
        "And the operator for exponentiation is `**`:"
      ]
    },
    {
      "cell_type": "code",
      "metadata": {
        "id": "i5mAiBsYui1S",
        "colab_type": "code",
        "colab": {}
      },
      "source": [
        "2**3"
      ],
      "execution_count": 0,
      "outputs": []
    },
    {
      "cell_type": "markdown",
      "metadata": {
        "id": "c7DXfGldui1X",
        "colab_type": "text"
      },
      "source": [
        "Unlike math notation, Python does not allow \"implicit multiplication\".  For example, in math notation, if you write $3 (2 + 1)$, that's understood to be the same as $3 \\times (2+ 1)$.\n",
        "\n",
        "Python does not allow that notation:"
      ]
    },
    {
      "cell_type": "code",
      "metadata": {
        "id": "Vn2ZeMuuui1Z",
        "colab_type": "code",
        "colab": {}
      },
      "source": [
        "3 (2 + 1)"
      ],
      "execution_count": 0,
      "outputs": []
    },
    {
      "cell_type": "markdown",
      "metadata": {
        "id": "IaWc1RO4ui1f",
        "colab_type": "text"
      },
      "source": [
        "In this example, the error message is not very helpful, which is why I am warning you now.  If you want to multiply, you have to use the `*` operator:"
      ]
    },
    {
      "cell_type": "code",
      "metadata": {
        "id": "Okhum8rqui1i",
        "colab_type": "code",
        "colab": {}
      },
      "source": [
        "3 * (2 + 1)"
      ],
      "execution_count": 0,
      "outputs": []
    },
    {
      "cell_type": "markdown",
      "metadata": {
        "id": "uOlRVutSui1o",
        "colab_type": "text"
      },
      "source": [
        "The arithmetic operators follow the rules of precedence you might have learned as \"PEMDAS\":\n",
        "\n",
        "* Parentheses before\n",
        "* Exponentiation before\n",
        "* Multiplication and division before\n",
        "* Addition and subtraction\n",
        "\n",
        "So in this expression:"
      ]
    },
    {
      "cell_type": "code",
      "metadata": {
        "id": "q5fjDUM3ui1q",
        "colab_type": "code",
        "colab": {}
      },
      "source": [
        "1 + 2 * 3"
      ],
      "execution_count": 0,
      "outputs": []
    },
    {
      "cell_type": "markdown",
      "metadata": {
        "id": "LyfjdRSbui1u",
        "colab_type": "text"
      },
      "source": [
        "The multiplication happens first.  If that's not what you want, you can use parentheses to make the order of operations explicit:"
      ]
    },
    {
      "cell_type": "code",
      "metadata": {
        "id": "JzN2pWAGui1x",
        "colab_type": "code",
        "colab": {}
      },
      "source": [
        "(1 + 2) * 3"
      ],
      "execution_count": 0,
      "outputs": []
    },
    {
      "cell_type": "markdown",
      "metadata": {
        "id": "Y3dFNM6_ui12",
        "colab_type": "text"
      },
      "source": [
        "**Exercise:** Write a Python expression that raises `1+2` to the power `3*4`.  The answer should be `531441`.\n",
        "\n",
        "Note: in the cell below, it should say\n",
        "\n",
        "```\n",
        "# Solution goes here\n",
        "```\n",
        "\n",
        "Lines like this that begin with `#` are \"comments\"; they provide information, but they have no effect when the program runs.\n",
        "\n",
        "When you do this exercise, you should delete the comment and replace it with your solution."
      ]
    },
    {
      "cell_type": "code",
      "metadata": {
        "id": "NhskSuX_ui14",
        "colab_type": "code",
        "outputId": "a7f1b433-e7af-4b87-f4ab-759e9c41700a",
        "colab": {
          "base_uri": "https://localhost:8080/",
          "height": 34
        }
      },
      "source": [
        "(1+2)**(3*4)"
      ],
      "execution_count": 0,
      "outputs": [
        {
          "output_type": "execute_result",
          "data": {
            "text/plain": [
              "531441"
            ]
          },
          "metadata": {
            "tags": []
          },
          "execution_count": 1
        }
      ]
    },
    {
      "cell_type": "markdown",
      "metadata": {
        "id": "ZuADXENSui17",
        "colab_type": "text"
      },
      "source": [
        "## Math functions\n",
        "\n",
        "Python provides functions that compute all the usual mathematical functions, like `sin` and `cos`, `exp` and `log`.\n",
        "\n",
        "However, they are not part of Python itself; they are in a \"library\", which is a collection of functions that supplement the Python language.\n",
        "\n",
        "Actually, there are several libraries that provide math functions; the one we'll use is called NumPy, which stands for \"Numerical Python\", and is pronounced \"num' pie\".\n",
        "\n",
        "Before you can use a library, you have to \"import\" it.  Here's how we import NumPy:  "
      ]
    },
    {
      "cell_type": "code",
      "metadata": {
        "id": "uFGRKPtFui1-",
        "colab_type": "code",
        "colab": {}
      },
      "source": [
        "import numpy as np"
      ],
      "execution_count": 0,
      "outputs": []
    },
    {
      "cell_type": "markdown",
      "metadata": {
        "id": "qgZ-lKwrui2C",
        "colab_type": "text"
      },
      "source": [
        "It is conventional to import `numpy` as `np`, which means we can refer to it by the short name `np` rather than the longer name `numpy`.\n",
        "\n",
        "Note that pretty much everything is case-sensitive, which means that `numpy` is not the same as `NumPy`.  So even though the name of the library is NumPy, when we import it we have to call it `numpy`.  If you run the following cell, you should get an error:"
      ]
    },
    {
      "cell_type": "code",
      "metadata": {
        "id": "vmFYFyk3ui2D",
        "colab_type": "code",
        "colab": {}
      },
      "source": [
        "import NumPy as np"
      ],
      "execution_count": 0,
      "outputs": []
    },
    {
      "cell_type": "markdown",
      "metadata": {
        "id": "arGUdA4Rui2H",
        "colab_type": "text"
      },
      "source": [
        "But if we import `np` correctly, we can use it to read the value `pi`, which is an approximation of the mathematical constant $\\pi$."
      ]
    },
    {
      "cell_type": "code",
      "metadata": {
        "id": "YIE5I8Jmui2I",
        "colab_type": "code",
        "colab": {}
      },
      "source": [
        "np.pi"
      ],
      "execution_count": 0,
      "outputs": []
    },
    {
      "cell_type": "markdown",
      "metadata": {
        "id": "-doatrEXui2N",
        "colab_type": "text"
      },
      "source": [
        "The result is a `float` with 16 digits.  As you probably know, we can't represent $\\pi$ with a finite number of digits, so this result is only approximate. "
      ]
    },
    {
      "cell_type": "markdown",
      "metadata": {
        "id": "c4xu4Lfsui2O",
        "colab_type": "text"
      },
      "source": [
        "`numpy` provides `log`, which computes the natural logarithm, and `exp`, which raises the constant `e` to a power."
      ]
    },
    {
      "cell_type": "code",
      "metadata": {
        "id": "6KRww6_Xui2Q",
        "colab_type": "code",
        "colab": {}
      },
      "source": [
        "np.log(100)"
      ],
      "execution_count": 0,
      "outputs": []
    },
    {
      "cell_type": "code",
      "metadata": {
        "id": "m9bxcBhcui2U",
        "colab_type": "code",
        "colab": {}
      },
      "source": [
        "np.exp(1)"
      ],
      "execution_count": 0,
      "outputs": []
    },
    {
      "cell_type": "markdown",
      "metadata": {
        "id": "-KnQNX_cui2Y",
        "colab_type": "text"
      },
      "source": [
        "**Exercise:** Use these functions to confirm the mathematical identity $\\log(e^x) = x$, which should be true for any value of $x$.\n",
        "\n",
        "With floating-point values, this identity should work for values of $x$ between -700 and 700.  What happens when you try it with larger and smaller values?"
      ]
    },
    {
      "cell_type": "code",
      "metadata": {
        "id": "eo3UjO97ui2a",
        "colab_type": "code",
        "colab": {}
      },
      "source": [
        "# Solution goes here"
      ],
      "execution_count": 0,
      "outputs": []
    },
    {
      "cell_type": "markdown",
      "metadata": {
        "id": "gl5HxAVXui2d",
        "colab_type": "text"
      },
      "source": [
        "As this example shows, floating-point numbers are finite approximations, which means they don't always behave like math.\n",
        "\n",
        "As another example, see what happens when you add up `0.1` three times:"
      ]
    },
    {
      "cell_type": "code",
      "metadata": {
        "id": "JJbQzTKPui2e",
        "colab_type": "code",
        "colab": {}
      },
      "source": [
        "0.1 + 0.1 + 0.1"
      ],
      "execution_count": 0,
      "outputs": []
    },
    {
      "cell_type": "markdown",
      "metadata": {
        "id": "vjU2FLIYui2j",
        "colab_type": "text"
      },
      "source": [
        "The result is close to `0.3`, but not exact.  \n",
        "\n",
        "We'll see other examples of floating-point approximation later, and learn some ways to deal with it."
      ]
    },
    {
      "cell_type": "markdown",
      "metadata": {
        "id": "gabnnjiTui2l",
        "colab_type": "text"
      },
      "source": [
        "## Variables\n",
        "\n",
        "A variable is a name that refers to a value.\n",
        "\n",
        "The following statement assigns the `int` value 5 to a variable named `x`:"
      ]
    },
    {
      "cell_type": "code",
      "metadata": {
        "id": "eFytv_eXui2m",
        "colab_type": "code",
        "colab": {}
      },
      "source": [
        "x = 5"
      ],
      "execution_count": 0,
      "outputs": []
    },
    {
      "cell_type": "markdown",
      "metadata": {
        "id": "CANhvsVJui2p",
        "colab_type": "text"
      },
      "source": [
        "The variable we just created has the name `x` and the value 5.\n",
        "\n",
        "If a variable name appears at the end of a cell, Jupyter displays its value."
      ]
    },
    {
      "cell_type": "code",
      "metadata": {
        "id": "sIJuimnPui2r",
        "colab_type": "code",
        "colab": {}
      },
      "source": [
        "x"
      ],
      "execution_count": 0,
      "outputs": []
    },
    {
      "cell_type": "markdown",
      "metadata": {
        "id": "RzGmayasui2w",
        "colab_type": "text"
      },
      "source": [
        "If we use `x` as part of an arithmetic operation, it represents the value 5:"
      ]
    },
    {
      "cell_type": "code",
      "metadata": {
        "id": "WjDCgtB1ui2x",
        "colab_type": "code",
        "colab": {}
      },
      "source": [
        "x + 1"
      ],
      "execution_count": 0,
      "outputs": []
    },
    {
      "cell_type": "code",
      "metadata": {
        "id": "SPdkB69iui21",
        "colab_type": "code",
        "colab": {}
      },
      "source": [
        "x**2"
      ],
      "execution_count": 0,
      "outputs": []
    },
    {
      "cell_type": "markdown",
      "metadata": {
        "id": "N3zqebnpui23",
        "colab_type": "text"
      },
      "source": [
        "We can also use `x` with `numpy` functions:"
      ]
    },
    {
      "cell_type": "code",
      "metadata": {
        "id": "ef2FzJMVui25",
        "colab_type": "code",
        "colab": {}
      },
      "source": [
        "np.exp(x)"
      ],
      "execution_count": 0,
      "outputs": []
    },
    {
      "cell_type": "markdown",
      "metadata": {
        "id": "bZMoWxkJui28",
        "colab_type": "text"
      },
      "source": [
        "Notice that the result from `exp` is a `float`, even though the value of `x` is an `int`."
      ]
    },
    {
      "cell_type": "markdown",
      "metadata": {
        "id": "tSY2d32Jui2-",
        "colab_type": "text"
      },
      "source": [
        "**Exercise:** If you have not programmed before, one of the things you have to get used to is that programming languages are picky about details.  Natural languages, like English, and semi-formal languages, like math notation, are more forgiving.\n",
        "\n",
        "4 exampel in Ingli\\$h you kin get prackicly evRiThing rong-rong-rong and sti11 be undr3stud.\n",
        "\n",
        "As another example, in math notation, parentheses and square brackets mean the same thing, you can write\n",
        "\n",
        "$\\sin (\\omega t)$\n",
        "\n",
        "or\n",
        "\n",
        "$\\sin [\\omega t]$\n",
        "\n",
        "Either one is fine.  And you can leave out the parentheses altogether, as long as the meaning is clear:\n",
        "\n",
        "$\\sin \\omega t$\n",
        "\n",
        "In Python, every character counts.  For example, the following are all different:\n",
        "\n",
        "```\n",
        "np.exp(x)\n",
        "np.Exp(x)\n",
        "np.exp[x]\n",
        "np.exp x\n",
        "```\n",
        "\n",
        "While you are learning, I encourage you to make mistakes on purpose to see what goes wrong.  Read the error messages carefully.  Sometimes they are helpful and tell you exactly what's wrong.  Other times they can be misleading.  But if you have seen the message before, you might remember some likely causes.\n",
        "\n",
        "In the next cell, try out the different versions of `np.exp(x)` above, and see what error messages you get."
      ]
    },
    {
      "cell_type": "code",
      "metadata": {
        "id": "HXHTTRhoui2_",
        "colab_type": "code",
        "colab": {}
      },
      "source": [
        "np.exp(x)"
      ],
      "execution_count": 0,
      "outputs": []
    },
    {
      "cell_type": "markdown",
      "metadata": {
        "id": "QOreTqPaui3D",
        "colab_type": "text"
      },
      "source": [
        "**Exercise:** Search the NumPy documentation to find the function that computes square roots, and use it to compute a floating-point approximation of the golden ratio:\n",
        "\n",
        "$\\phi = \\frac{1 + \\sqrt{5}}{2}$ \n",
        "\n",
        "Hint: The result should be close to `1.618`."
      ]
    },
    {
      "cell_type": "code",
      "metadata": {
        "id": "ug4p-lTHui3D",
        "colab_type": "code",
        "colab": {}
      },
      "source": [
        "# Solution goes here"
      ],
      "execution_count": 0,
      "outputs": []
    },
    {
      "cell_type": "markdown",
      "metadata": {
        "id": "9Eru6n4Gui3G",
        "colab_type": "text"
      },
      "source": [
        "## Save your work\n",
        "\n",
        "If you are running on Colab and you want to save your work, now is a good time to press the \"Copy to Drive\" button (near the upper left), which saves a copy of this notebook in your Google Drive.\n",
        "\n",
        "If you want to change the name of the file, you can click on the name in the upper left.\n",
        "\n",
        "If you don't use Google Drive, look under the File menu to see other options.\n",
        "\n",
        "Once you make a copy, any additional changes you make will be saved automatically, so now you can continue without worrying about losing your work."
      ]
    },
    {
      "cell_type": "markdown",
      "metadata": {
        "id": "njQfmFxZui3H",
        "colab_type": "text"
      },
      "source": [
        "## Calculation with variables\n",
        "\n",
        "Now let's use variables to solve a problem involving mathematical calculation.\n",
        "\n",
        "Suppose we have the following formula for computing compound interest [from Wikipedia](https://en.wikipedia.org/wiki/Compound_interest#Periodic_compounding):\n",
        "\n",
        "\"The total accumulated value, including the principal sum $P$ plus compounded interest $I$, is given by the formula:\n",
        "\n",
        "$V=P\\left(1+{\\frac {r}{n}}\\right)^{nt}$\n",
        "\n",
        "where:\n",
        "\n",
        "* $P$ is the original principal sum\n",
        "* $V$ is the total accumulated value\n",
        "* $r$ is the nominal annual interest rate\n",
        "* $n$ is the compounding frequency\n",
        "* $t$ is the overall length of time the interest is applied (expressed using the same time units as $r$, usually years).\n",
        "\n",
        "\"Suppose a principal amount of \\$1,500 is deposited in a bank paying an annual interest rate of 4.3\\%, compounded quarterly.\n",
        "Then the balance after 6 years is found by using the formula above, with"
      ]
    },
    {
      "cell_type": "code",
      "metadata": {
        "id": "P0tBAYJcui3I",
        "colab_type": "code",
        "colab": {}
      },
      "source": [
        "P = 1500\n",
        "r = 0.043\n",
        "n = 4\n",
        "t = 6"
      ],
      "execution_count": 0,
      "outputs": []
    },
    {
      "cell_type": "markdown",
      "metadata": {
        "id": "lf1Kt1GOui3L",
        "colab_type": "text"
      },
      "source": [
        "We can compute the total accumulated value by translating the mathematical formula into Python syntax:"
      ]
    },
    {
      "cell_type": "code",
      "metadata": {
        "id": "DkeOaEydui3N",
        "colab_type": "code",
        "colab": {}
      },
      "source": [
        "P * (1 + r/n)**(n*t)"
      ],
      "execution_count": 0,
      "outputs": []
    },
    {
      "cell_type": "markdown",
      "metadata": {
        "id": "dlivO3wKui3Q",
        "colab_type": "text"
      },
      "source": [
        "**Exercise:** Continuing the example from Wikipedia:\n",
        "\n",
        "\"Suppose the same amount of \\$1,500 is compounded biennially\", so `n = 1/2`.  \n",
        "\n",
        "What would the total value be after 6 years?  Hint: we expect the answer to be a bit less than the previous answer."
      ]
    },
    {
      "cell_type": "code",
      "metadata": {
        "id": "CRdqDmGjui3R",
        "colab_type": "code",
        "colab": {}
      },
      "source": [
        "# Solution goes here"
      ],
      "execution_count": 0,
      "outputs": []
    },
    {
      "cell_type": "markdown",
      "metadata": {
        "id": "jhfkL9p8ui3T",
        "colab_type": "text"
      },
      "source": [
        "**Exercise:** If interest is compounded continuously, the value after time $t$ is given by the formula:\n",
        "\n",
        "$V=P~e^{rt}$\n",
        "\n",
        "Translate this function into Python and use it compute the value of the investment in the previous example with continuous compounding.  Hint: we expect the answer to be a bit more than the previous answers."
      ]
    },
    {
      "cell_type": "code",
      "metadata": {
        "id": "g6FrMCqVui3U",
        "colab_type": "code",
        "colab": {}
      },
      "source": [
        "# Solution goes here"
      ],
      "execution_count": 0,
      "outputs": []
    },
    {
      "cell_type": "markdown",
      "metadata": {
        "id": "wxMYK09Wui3X",
        "colab_type": "text"
      },
      "source": [
        "**Exercise** Applying your algebra skills, solve the previous equation for $r$.  Now use the formula you just derived to answer this question.\n",
        "\n",
        "\"Harvard's tuition in 1970 was \\$4,070 (not including room, board, and fees).  \n",
        "\n",
        "\"In 2019 it is \\$46,340.  What was the annual rate of increase over that period, treating it as if it had compounded continuously?\""
      ]
    },
    {
      "cell_type": "code",
      "metadata": {
        "id": "sEbCmkMRui3Z",
        "colab_type": "code",
        "colab": {}
      },
      "source": [
        "# Solution goes here"
      ],
      "execution_count": 0,
      "outputs": []
    },
    {
      "cell_type": "markdown",
      "metadata": {
        "id": "pojQ1dRkui3c",
        "colab_type": "text"
      },
      "source": [
        "The point of this exercise is to practice using variables.  But it is also a reminder about logarithms, which we will use extensively."
      ]
    },
    {
      "cell_type": "markdown",
      "metadata": {
        "collapsed": true,
        "id": "QIVKHR77ui3d",
        "colab_type": "text"
      },
      "source": [
        "## A little more Jupyter\n",
        "\n",
        "Here are a few tips on using Jupyter to compute and display values.\n",
        "\n",
        "Generally, if there is a single expression in a cell, Jupyter computes the value of the expression and displays the result.\n",
        "\n",
        "For example, we've already seen how to display the value of `np.pi`:"
      ]
    },
    {
      "cell_type": "code",
      "metadata": {
        "id": "bFJC_e8Aui3e",
        "colab_type": "code",
        "colab": {}
      },
      "source": [
        "np.pi"
      ],
      "execution_count": 0,
      "outputs": []
    },
    {
      "cell_type": "markdown",
      "metadata": {
        "id": "Msafyf7Vui3i",
        "colab_type": "text"
      },
      "source": [
        "Here's a more complex example with functions, operators, and numbers:"
      ]
    },
    {
      "cell_type": "code",
      "metadata": {
        "id": "CNeP9KS6ui3j",
        "colab_type": "code",
        "colab": {}
      },
      "source": [
        "1 / np.sqrt(2 * np.pi) * np.exp(-3**2 / 2)"
      ],
      "execution_count": 0,
      "outputs": []
    },
    {
      "cell_type": "markdown",
      "metadata": {
        "id": "7_ms78Zcui3n",
        "colab_type": "text"
      },
      "source": [
        "If you put more than one expression in a cell, Jupyter computes them all, but it only display the result from the last:"
      ]
    },
    {
      "cell_type": "code",
      "metadata": {
        "id": "vMSgL2lNui3p",
        "colab_type": "code",
        "colab": {}
      },
      "source": [
        "1\n",
        "2 + 3\n",
        "np.exp(1)\n",
        "(1 + np.sqrt(5)) / 2"
      ],
      "execution_count": 0,
      "outputs": []
    },
    {
      "cell_type": "markdown",
      "metadata": {
        "id": "t3oByjhpui34",
        "colab_type": "text"
      },
      "source": [
        "If you want to display more than one value, you can separate them with commas:"
      ]
    },
    {
      "cell_type": "code",
      "metadata": {
        "id": "YunXDD9oui36",
        "colab_type": "code",
        "colab": {}
      },
      "source": [
        "1, 2 + 3, np.exp(1), (1 + np.sqrt(5)) / 2"
      ],
      "execution_count": 0,
      "outputs": []
    },
    {
      "cell_type": "markdown",
      "metadata": {
        "id": "qHYEOtmJui38",
        "colab_type": "text"
      },
      "source": [
        "That result is actually a tuple, which you will learn about in the next notebook.\n",
        "\n",
        "Here's one last Jupyter tip: when you assign a value to variable, Jupyter does not display the value:"
      ]
    },
    {
      "cell_type": "code",
      "metadata": {
        "id": "g0sbG0Kcui38",
        "colab_type": "code",
        "colab": {}
      },
      "source": [
        "phi = (1 + np.sqrt(5)) / 2"
      ],
      "execution_count": 0,
      "outputs": []
    },
    {
      "cell_type": "markdown",
      "metadata": {
        "id": "iVlo4GOdui4A",
        "colab_type": "text"
      },
      "source": [
        "So it is idiomatic to assign a value to a variable and immediately display the result:"
      ]
    },
    {
      "cell_type": "code",
      "metadata": {
        "id": "iOBywgdcui4B",
        "colab_type": "code",
        "colab": {}
      },
      "source": [
        "phi = (1 + np.sqrt(5)) / 2\n",
        "phi"
      ],
      "execution_count": 0,
      "outputs": []
    },
    {
      "cell_type": "markdown",
      "metadata": {
        "id": "O48HA9r7ui4D",
        "colab_type": "text"
      },
      "source": [
        "**Exercise:** Display the value of $\\phi$ and its inverse, $1/\\phi$, on a single line."
      ]
    },
    {
      "cell_type": "code",
      "metadata": {
        "id": "pkPQtCQfui4E",
        "colab_type": "code",
        "colab": {}
      },
      "source": [
        "# Solution goes here"
      ],
      "execution_count": 0,
      "outputs": []
    },
    {
      "cell_type": "markdown",
      "metadata": {
        "id": "tDBfNKVqui4H",
        "colab_type": "text"
      },
      "source": [
        "## The Colab mental model\n",
        "\n",
        "Congratulations on completing the first notebook!\n",
        "\n",
        "Now that you have worked with Colab, you might find it helpful to watch this video, where I explain a little more about how it works:"
      ]
    },
    {
      "cell_type": "code",
      "metadata": {
        "id": "2nvZeLRmui4I",
        "colab_type": "code",
        "outputId": "50eb3d2d-41db-42d2-c30e-3ea09bcf827f",
        "colab": {
          "base_uri": "https://localhost:8080/",
          "height": 322
        }
      },
      "source": [
        "from IPython.display import YouTubeVideo    \n",
        "\n",
        "YouTubeVideo(\"eIY-PsYBrPs\")"
      ],
      "execution_count": 0,
      "outputs": [
        {
          "output_type": "execute_result",
          "data": {
            "text/html": [
              "\n",
              "        <iframe\n",
              "            width=\"400\"\n",
              "            height=\"300\"\n",
              "            src=\"https://www.youtube.com/embed/eIY-PsYBrPs\"\n",
              "            frameborder=\"0\"\n",
              "            allowfullscreen\n",
              "        ></iframe>\n",
              "        "
            ],
            "text/plain": [
              "<IPython.lib.display.YouTubeVideo at 0x7f84ab06a278>"
            ],
            "image/jpeg": "[encoded data removed]"
          },
          "metadata": {
            "tags": []
          },
          "execution_count": 2
        }
      ]
    },
    {
      "cell_type": "code",
      "metadata": {
        "id": "YUvDFDfKui4L",
        "colab_type": "code",
        "colab": {}
      },
      "source": [
        ""
      ],
      "execution_count": 0,
      "outputs": []
    }
  ]
}