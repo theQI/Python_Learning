{
 "cells": [
  {
   "cell_type": "code",
   "execution_count": null,
   "metadata": {
    "collapsed": false
   },
   "outputs": [],
   "source": [
    "def bmrWomen (weight, heightinfeet, heightininches, age):\n",
    "    result = 655 + 4.3 * w + 4.7 * ((h1 * 12) + h2) - 4.7 * a\n",
    "    return result\n",
    "def bmrMen (weight, heightinfeet, heightininches, age):\n",
    "    result = 66 + 6.3 * w + 12.9 * ((h1 * 12) + h2) - 6.8 * a\n",
    "    return result\n",
    "gender = input(\"Are you male or female?\").lower()\n",
    "w = float(input(\"Enter your weight in pounds:\"))\n",
    "h1 = int(input(\"Enter your height in feet:\"))\n",
    "h2 = int(input(\"Enter your height in inches\"))\n",
    "a = float(input(\"Enter your age in years:\"))\n",
    "if gender == \"male\":\n",
    "    BMR = bmrMen(w, h1, h2, a)\n",
    "    print (\"your BMR is:\", \" \", BMR)\n",
    "if gender == \"female\":\n",
    "    BMR = bmrWomen(w, h1, h2, a)\n",
    "    print (\"your BMR is:\", \" \", BMR)"
   ]
  },
  {
   "cell_type": "code",
   "execution_count": null,
   "metadata": {
    "collapsed": true
   },
   "outputs": [],
   "source": [
    "import os  \n",
    "import numpy as np  \n",
    "import pandas as pd  \n",
    "import matplotlib.pyplot as plt"
   ]
  }
 ],
 "metadata": {
  "kernelspec": {
   "display_name": "Python 3",
   "language": "python",
   "name": "python3"
  },
  "language_info": {
   "codemirror_mode": {
    "name": "ipython",
    "version": 3
   },
   "file_extension": ".py",
   "mimetype": "text/x-python",
   "name": "python",
   "nbconvert_exporter": "python",
   "pygments_lexer": "ipython3",
   "version": "3.6.0"
  }
 },
 "nbformat": 4,
 "nbformat_minor": 2
}
